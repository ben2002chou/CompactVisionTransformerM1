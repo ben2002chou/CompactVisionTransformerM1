{
  "cells": [
    {
      "cell_type": "markdown",
      "metadata": {
        "id": "eUf56UTX7U1n"
      },
      "source": [
        "# Training a Compact Vision Transformer\n",
        "\n",
        "\n",
        "This is it. You can now train a transformer on very limited data from scratch on very limited resources.\n",
        "\n",
        "### CIFAR-10\n",
        "\n",
        "We're going to use ``torchvision``'s CIFAR-10 dataset, which will automatically download it as well.\n",
        "\n",
        "Its classes are: ‘airplane’, ‘automobile’, ‘bird’, ‘cat’, ‘deer’,\n",
        "‘dog’, ‘frog’, ‘horse’, ‘ship’, ‘truck’. The images in CIFAR-10 are of\n",
        "size 3x32x32, i.e. 3-channel color images of 32x32 pixels in size.\n",
        "\n",
        "\n",
        "### Training an image classifier\n",
        "\n",
        "We will do the following steps in order:\n",
        "\n",
        "1. Download CIFAR-10 and load it\n",
        "2. Clone the Compact Transformers repository from GitHub\n",
        "3. Train the network on CIFAR-10\n",
        "4. Load the trained checkpoint\n",
        "5. Test the network on the test data"
      ]
    },
    {
      "cell_type": "markdown",
      "metadata": {
        "id": "vOUzXmWrfQ0O"
      },
      "source": [
        "## 1. Loading the prerequisites"
      ]
    },
    {
      "cell_type": "markdown",
      "metadata": {
        "id": "aamRUhwbkKng"
      },
      "source": [
        "We need to import some basic requirements (PyTorch, Torchvision, and matplotlib)."
      ]
    },
    {
      "cell_type": "code",
      "execution_count": 2,
      "metadata": {
        "id": "QFn8eXJ-kGH2"
      },
      "outputs": [],
      "source": [
        "import torch\n",
        "import torchvision\n",
        "import torchvision.transforms as transforms\n",
        "import matplotlib.pyplot as plt\n",
        "\n",
        "\n",
        "cifar10_mean, cifar10_std = [0.4914, 0.4822, 0.4465], [0.2470, 0.2435, 0.2616]\n",
        "transform = transforms.Compose(\n",
        "    [transforms.ToTensor(),\n",
        "     transforms.Normalize(cifar10_mean, cifar10_std)])\n",
        "\n",
        "\n",
        "classes = ('plane', 'car', 'bird', 'cat',\n",
        "           'deer', 'dog', 'frog', 'horse', 'ship', 'truck')"
      ]
    },
    {
      "cell_type": "markdown",
      "metadata": {
        "id": "gjdc84zvkV0k"
      },
      "source": [
        "This function will plot images, their labels and the predicted labels (if specified). We'll use it as we go through."
      ]
    },
    {
      "cell_type": "code",
      "execution_count": 3,
      "metadata": {
        "id": "34kaamob7U1m"
      },
      "outputs": [],
      "source": [
        "def imshow(images, labels, predicted_labels=None):\n",
        "    # Using torchvision to make a grid of the images\n",
        "    img = torchvision.utils.make_grid(images)\n",
        "\n",
        "    # Inverting the normalization\n",
        "    img = img.permute(1, 2, 0).mul(torch.tensor(cifar10_std))\n",
        "    img += torch.tensor(cifar10_mean)\n",
        "\n",
        "    # Plotting the grid\n",
        "    fig, ax = plt.subplots(figsize=(6, 24))\n",
        "    plt.imshow(img)\n",
        "\n",
        "    if predicted_labels is not None:\n",
        "        # Outputing the predicted labels\n",
        "        ax.set_xlabel('Predicted labels', fontsize=18, labelpad=12)\n",
        "        ax.set_xticks(torch.arange(len(images)) * 35 + 20)\n",
        "        ax.set_xticklabels([classes[predicted_labels[j]]\n",
        "                            for j in range(len(images))], fontsize=14)\n",
        "\n",
        "    # Outputing the ground truth labels\n",
        "    gax = ax.secondary_xaxis('top')\n",
        "    gax.set_xlabel('Ground truth', fontsize=18, labelpad=12)\n",
        "    gax.set_xticks(torch.arange(len(images)) * 35 + 20)\n",
        "    gax.set_xticklabels([classes[labels[j]]\n",
        "                         for j in range(len(images))], fontsize=14)\n",
        "    plt.show()"
      ]
    },
    {
      "cell_type": "markdown",
      "metadata": {
        "id": "NtmgJyxI7U1p"
      },
      "source": [
        "## 2. Loading and normalizing CIFAR10\n",
        "Using ``torchvision``, it’s extremely easy to load CIFAR10."
      ]
    },
    {
      "cell_type": "code",
      "execution_count": 4,
      "metadata": {
        "colab": {
          "base_uri": "https://localhost:8080/"
        },
        "id": "EM1GR73T7U1p",
        "outputId": "e4fb7622-7ab5-467c-f1c8-b9c9f6ff3bb3"
      },
      "outputs": [
        {
          "name": "stdout",
          "output_type": "stream",
          "text": [
            "Downloading https://www.cs.toronto.edu/~kriz/cifar-10-python.tar.gz to ./cifar10/cifar-10-python.tar.gz\n"
          ]
        },
        {
          "name": "stderr",
          "output_type": "stream",
          "text": [
            "100.0%\n"
          ]
        },
        {
          "name": "stdout",
          "output_type": "stream",
          "text": [
            "Extracting ./cifar10/cifar-10-python.tar.gz to ./cifar10\n"
          ]
        }
      ],
      "source": [
        "batch_size = 4\n",
        "\n",
        "trainset = torchvision.datasets.CIFAR10(root='./cifar10', train=True,\n",
        "                                        download=True, transform=transform)\n",
        "trainloader = torch.utils.data.DataLoader(trainset, batch_size=batch_size,\n",
        "                                          shuffle=True, num_workers=2)\n",
        "\n",
        "testset = torchvision.datasets.CIFAR10(root='./cifar10', train=False,\n",
        "                                       download=False, transform=transform)\n",
        "testloader = torch.utils.data.DataLoader(testset, batch_size=batch_size,\n",
        "                                         shuffle=False, num_workers=2)\n",
        "\n",
        "dataiter = iter(trainloader)\n",
        "test_dataiter = iter(testloader)"
      ]
    },
    {
      "cell_type": "markdown",
      "metadata": {
        "id": "SrEIjTCOjVim"
      },
      "source": [
        "**Let's view some of the training images, for fun.** \\\\\n",
        "Run this cell to see outputs. \\\\\n",
        "You can run this cell multiple times.\n",
        "Each run should return different images"
      ]
    },
    {
      "cell_type": "code",
      "execution_count": 5,
      "metadata": {
        "colab": {
          "base_uri": "https://localhost:8080/",
          "height": 246
        },
        "id": "UA29qUBf7U1q",
        "outputId": "f7cd968c-5b5c-40cd-e615-f434044cd8c1"
      },
      "outputs": [
        {
          "data": {
            "image/png": "[encoded data removed]",
            "text/plain": [
              "<Figure size 600x2400 with 1 Axes>"
            ]
          },
          "metadata": {},
          "output_type": "display_data"
        }
      ],
      "source": [
        "images, labels = next(dataiter)\n",
        "imshow(images, labels)"
      ]
    },
    {
      "cell_type": "markdown",
      "metadata": {
        "id": "8wc1UQqi7U1q"
      },
      "source": [
        "## 3. Train CCT on CIFAR-10\n",
        "We're going to clone the repository first.\n"
      ]
    },
    {
      "cell_type": "code",
      "execution_count": 6,
      "metadata": {
        "colab": {
          "base_uri": "https://localhost:8080/"
        },
        "id": "Bb0MqQMO78qz",
        "outputId": "59dfb341-960a-406b-9868-0c246eb58884"
      },
      "outputs": [
        {
          "name": "stdout",
          "output_type": "stream",
          "text": [
            "Cloning into 'Compact-Transformers'...\n",
            "remote: Enumerating objects: 438, done.\u001b[K\n",
            "remote: Counting objects: 100% (134/134), done.\u001b[K\n",
            "remote: Compressing objects: 100% (55/55), done.\u001b[K\n",
            "remote: Total 438 (delta 97), reused 83 (delta 78), pack-reused 304\u001b[K\n",
            "Receiving objects: 100% (438/438), 1.34 MiB | 3.54 MiB/s, done.\n",
            "Resolving deltas: 100% (233/233), done.\n",
            "/Users/Ben/Code/VIT/Compact-Transformers\n"
          ]
        }
      ],
      "source": [
        "!git clone https://github.com/SHI-Labs/Compact-Transformers.git\n",
        "%cd Compact-Transformers/"
      ]
    },
    {
      "cell_type": "markdown",
      "metadata": {
        "id": "rhasF53HYSef"
      },
      "source": [
        "We'll train $CCT-2/3\\times2$ from the paper ( $\\approx 280$ K parameters) for $30$ epochs. It should take around 10 minutes (may vary depending on which GPU Colab assigns to you)."
      ]
    },
    {
      "cell_type": "markdown",
      "metadata": {
        "id": "YllIsD2xjj7j"
      },
      "source": [
        "Training is fairly simple,\n",
        "we'll just run `main.py` with the the appropriate args.\n",
        "The script will train and logs performance and time."
      ]
    },
    {
      "cell_type": "code",
      "execution_count": 41,
      "metadata": {
        "colab": {
          "base_uri": "https://localhost:8080/"
        },
        "id": "ZUBThVtAo2gv",
        "outputId": "4cdb9658-871b-480f-8467-a5096712117d"
      },
      "outputs": [
        {
          "name": "stdout",
          "output_type": "stream",
          "text": [
            "/Users/Ben/Code/VIT/Compact-Transformers\n"
          ]
        }
      ],
      "source": [
        "%cd .."
      ]
    },
    {
      "cell_type": "code",
      "execution_count": 43,
      "metadata": {
        "colab": {
          "base_uri": "https://localhost:8080/"
        },
        "id": "nZa0tyEO8F9S",
        "outputId": "796a5651-763c-41b7-9a95-932d3e89a08f"
      },
      "outputs": [
        {
          "name": "stdout",
          "output_type": "stream",
          "text": [
            "Files already downloaded and verified\n",
            "Beginning training\n",
            "[Epoch 1] \t \t Top-1  31.32 \t \t Time: 0.63\n",
            "[Epoch 2] \t \t Top-1  39.90 \t \t Time: 1.20\n",
            "[Epoch 3] \t \t Top-1  48.73 \t \t Time: 1.78\n",
            "[Epoch 4] \t \t Top-1  53.51 \t \t Time: 2.35\n",
            "[Epoch 5] \t \t Top-1  55.94 \t \t Time: 2.94\n",
            "[Epoch 6] \t \t Top-1  60.52 \t \t Time: 3.52\n",
            "[Epoch 7] \t \t Top-1  62.18 \t \t Time: 4.09\n",
            "[Epoch 8] \t \t Top-1  64.25 \t \t Time: 4.66\n",
            "[Epoch 9] \t \t Top-1  67.22 \t \t Time: 5.24\n",
            "[Epoch 10] \t \t Top-1  68.64 \t \t Time: 5.82\n",
            "[Epoch 11] \t \t Top-1  69.14 \t \t Time: 6.40\n",
            "[Epoch 12] \t \t Top-1  71.01 \t \t Time: 6.98\n",
            "[Epoch 13] \t \t Top-1  70.35 \t \t Time: 7.56\n",
            "[Epoch 14] \t \t Top-1  71.89 \t \t Time: 8.13\n",
            "[Epoch 15] \t \t Top-1  72.66 \t \t Time: 8.71\n",
            "[Epoch 16] \t \t Top-1  73.77 \t \t Time: 9.30\n",
            "[Epoch 17] \t \t Top-1  72.87 \t \t Time: 9.87\n",
            "[Epoch 18] \t \t Top-1  75.53 \t \t Time: 10.46\n",
            "[Epoch 19] \t \t Top-1  75.21 \t \t Time: 11.05\n",
            "[Epoch 20] \t \t Top-1  75.86 \t \t Time: 11.63\n",
            "[Epoch 21] \t \t Top-1  75.51 \t \t Time: 12.21\n",
            "[Epoch 22] \t \t Top-1  77.37 \t \t Time: 12.80\n",
            "[Epoch 23] \t \t Top-1  76.81 \t \t Time: 13.38\n",
            "[Epoch 24] \t \t Top-1  78.52 \t \t Time: 13.95\n",
            "[Epoch 25] \t \t Top-1  78.10 \t \t Time: 14.53\n",
            "[Epoch 26] \t \t Top-1  78.34 \t \t Time: 15.11\n",
            "[Epoch 27] \t \t Top-1  78.30 \t \t Time: 15.70\n",
            "[Epoch 28] \t \t Top-1  79.25 \t \t Time: 16.28\n",
            "[Epoch 29] \t \t Top-1  79.99 \t \t Time: 16.85\n",
            "[Epoch 30] \t \t Top-1  80.25 \t \t Time: 17.43\n",
            "[Epoch 31] \t \t Top-1  79.89 \t \t Time: 18.01\n",
            "[Epoch 32] \t \t Top-1  80.38 \t \t Time: 18.58\n",
            "[Epoch 33] \t \t Top-1  80.62 \t \t Time: 19.16\n",
            "[Epoch 34] \t \t Top-1  81.33 \t \t Time: 19.75\n",
            "[Epoch 35] \t \t Top-1  79.91 \t \t Time: 20.32\n",
            "[Epoch 36] \t \t Top-1  80.22 \t \t Time: 20.89\n",
            "[Epoch 37] \t \t Top-1  80.99 \t \t Time: 21.46\n",
            "[Epoch 38] \t \t Top-1  80.88 \t \t Time: 22.04\n",
            "[Epoch 39] \t \t Top-1  81.46 \t \t Time: 22.62\n",
            "[Epoch 40] \t \t Top-1  82.39 \t \t Time: 23.21\n",
            "[Epoch 41] \t \t Top-1  81.68 \t \t Time: 23.77\n",
            "[Epoch 42] \t \t Top-1  81.31 \t \t Time: 24.35\n",
            "[Epoch 43] \t \t Top-1  82.62 \t \t Time: 24.93\n",
            "[Epoch 44] \t \t Top-1  82.73 \t \t Time: 25.51\n",
            "[Epoch 45] \t \t Top-1  82.09 \t \t Time: 26.09\n",
            "[Epoch 46] \t \t Top-1  83.37 \t \t Time: 26.67\n",
            "[Epoch 47] \t \t Top-1  82.81 \t \t Time: 27.25\n",
            "[Epoch 48] \t \t Top-1  82.80 \t \t Time: 27.82\n",
            "[Epoch 49] \t \t Top-1  83.02 \t \t Time: 28.40\n",
            "[Epoch 50] \t \t Top-1  82.72 \t \t Time: 28.99\n",
            "[Epoch 51] \t \t Top-1  83.61 \t \t Time: 29.58\n",
            "[Epoch 52] \t \t Top-1  82.95 \t \t Time: 30.16\n",
            "[Epoch 53] \t \t Top-1  83.06 \t \t Time: 30.74\n",
            "[Epoch 54] \t \t Top-1  83.10 \t \t Time: 31.31\n",
            "[Epoch 55] \t \t Top-1  83.77 \t \t Time: 31.89\n",
            "[Epoch 56] \t \t Top-1  84.12 \t \t Time: 32.47\n",
            "[Epoch 57] \t \t Top-1  84.01 \t \t Time: 33.04\n"
          ]
        }
      ],
      "source": [
        "!python examples/main.py \\\n",
        "       --model cct_2 \\\n",
        "       --conv-size 3 \\\n",
        "       --conv-layers 2 \\\n",
        "       --print-freq -1 \\\n",
        "       --epochs 200 \\\n",
        "       --workers 2 \\\n",
        "       ../cifar10"
      ]
    },
    {
      "cell_type": "markdown",
      "metadata": {
        "id": "NrtaPljN7U1t"
      },
      "source": [
        "## 4. Evaluation\n",
        "Now we're going to load our trained transformer from file. \\\\\n",
        "The script stores checkpoints in `checkpoint.pth`."
      ]
    },
    {
      "cell_type": "code",
      "execution_count": 25,
      "metadata": {},
      "outputs": [
        {
          "name": "stdout",
          "output_type": "stream",
          "text": [
            "/Users/Ben/Code/VIT/Compact-Transformers/examples\n"
          ]
        }
      ],
      "source": [
        "%cd examples"
      ]
    },
    {
      "cell_type": "code",
      "execution_count": null,
      "metadata": {},
      "outputs": [],
      "source": []
    },
    {
      "cell_type": "code",
      "execution_count": 27,
      "metadata": {
        "colab": {
          "base_uri": "https://localhost:8080/",
          "height": 242
        },
        "id": "fLkpNzIO7U1u",
        "outputId": "d1c8745b-ebd3-4ae9-9e98-713186303370"
      },
      "outputs": [
        {
          "data": {
            "text/plain": [
              "<All keys matched successfully>"
            ]
          },
          "execution_count": 27,
          "metadata": {},
          "output_type": "execute_result"
        }
      ],
      "source": [
        "from src.cct import cct_2\n",
        "\n",
        "transformer = cct_2(img_size=32,\n",
        "                    num_classes=10,\n",
        "                    positional_embedding='learnable',\n",
        "                    n_conv_layers=2,\n",
        "                    kernel_size=3,\n",
        "                    arch='custom',\n",
        "                    pretrained=False,\n",
        "                    progress=True,)\n",
        "\n",
        "transformer.load_state_dict(torch.load('../checkpoint.pth'))"
      ]
    },
    {
      "cell_type": "markdown",
      "metadata": {
        "id": "to3894whjw1j"
      },
      "source": [
        "**Okay, now let us see what the transformer thinks these examples above are:** \\\\\n",
        "Run this cell to see outputs. \\\\\n",
        "You can run this cell multiple times.\n",
        "Each run should return different images"
      ]
    },
    {
      "cell_type": "code",
      "execution_count": 33,
      "metadata": {
        "id": "WXb95hF1ZhPN"
      },
      "outputs": [
        {
          "data": {
            "image/png": "[encoded data removed]",
            "text/plain": [
              "<Figure size 600x2400 with 1 Axes>"
            ]
          },
          "metadata": {},
          "output_type": "display_data"
        }
      ],
      "source": [
        "images, labels = next(test_dataiter)\n",
        "\n",
        "_, predicted = torch.max(transformer(images), 1)\n",
        "\n",
        "imshow(images, labels, predicted)"
      ]
    }
  ],
  "metadata": {
    "accelerator": "GPU",
    "colab": {
      "provenance": []
    },
    "kernelspec": {
      "display_name": "Python 3",
      "language": "python",
      "name": "python3"
    },
    "language_info": {
      "codemirror_mode": {
        "name": "ipython",
        "version": 3
      },
      "file_extension": ".py",
      "mimetype": "text/x-python",
      "name": "python",
      "nbconvert_exporter": "python",
      "pygments_lexer": "ipython3",
      "version": "3.11.4"
    }
  },
  "nbformat": 4,
  "nbformat_minor": 0
}
